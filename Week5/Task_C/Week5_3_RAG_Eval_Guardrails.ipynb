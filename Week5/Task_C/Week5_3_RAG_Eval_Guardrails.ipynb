{
 "cells": [
  {
   "cell_type": "code",
   "execution_count": null,
   "metadata": {},
   "outputs": [
    {
     "name": "stdout",
     "output_type": "stream",
     "text": [
      "{\n",
      "  \"timestamp\": \"2025-09-28T01:13:57\",\n",
      "  \"python\": \"3.12.11\",\n",
      "  \"platform\": \"Linux-6.6.97+-x86_64-with-glibc2.35\",\n",
      "  \"cuda\": true,\n",
      "  \"device\": \"Tesla T4\",\n",
      "  \"sentence_transformers\": \"5.1.1\",\n",
      "  \"chromadb\": \"1.1.0\"\n",
      "}\n"
     ]
    }
   ],
   "source": [
    "# Quiet install of required libs\n",
    "!pip -q install -U langchain-community chromadb sentence-transformers pypdf matplotlib\n",
    "\n",
    "import json, sys, platform, datetime\n",
    "import chromadb, sentence_transformers\n",
    "\n",
    "# Optional CUDA probe\n",
    "try:\n",
    "    import torch\n",
    "    cuda_ok = torch.cuda.is_available()\n",
    "    device_name = torch.cuda.get_device_name(0) if cuda_ok else \"CPU\"\n",
    "except Exception:\n",
    "    cuda_ok, device_name = False, \"CPU\"\n",
    "\n",
    "env = {\n",
    "    \"timestamp\": datetime.datetime.now().isoformat(timespec=\"seconds\"),\n",
    "    \"python\": sys.version.split()[0],\n",
    "    \"platform\": platform.platform(),\n",
    "    \"cuda\": cuda_ok,\n",
    "    \"device\": device_name,\n",
    "    \"sentence_transformers\": sentence_transformers.__version__,\n",
    "    \"chromadb\": chromadb.__version__,\n",
    "}\n",
    "print(json.dumps(env, indent=2))\n",
    "with open(\"env_rag_trackC_fast.json\",\"w\") as f:\n",
    "    json.dump(env, f, indent=2)\n"
   ]
  },
  {
   "cell_type": "code",
   "execution_count": null,
   "metadata": {},
   "outputs": [
    {
     "name": "stdout",
     "output_type": "stream",
     "text": [
      "[sweep] found loose files: []\n",
      "CORPUS contains: ['NeurIPS-2024-can-large-language-model-agents-simulate-human-trust-behavior-Paper-Conference.pdf', 'NeurIPS-2024-mdagents-an-adaptive-collaboration-of-llms-for-medical-decision-making-Paper-Conference.pdf', 'NeurIPS-2024-richelieu-self-evolving-llm-based-agents-for-ai-diplomacy-Paper-Conference.pdf', 'sample.txt']\n"
     ]
    }
   ],
   "source": [
    "from pathlib import Path\n",
    "import shutil\n",
    "\n",
    "CORPUS_DIR = Path(\"corpus\"); CORPUS_DIR.mkdir(exist_ok=True)\n",
    "\n",
    "# File types to ingest\n",
    "INGEST_EXTS = {\".pdf\", \".txt\", \".text\", \".md\"}\n",
    "\n",
    "# Sweep any loose files in the working directory into corpus/\n",
    "CWD = Path(\".\").resolve()\n",
    "candidates = []\n",
    "for p in CWD.iterdir():\n",
    "    if p.is_file() and p.suffix.lower() in INGEST_EXTS and p.parent != CORPUS_DIR:\n",
    "        candidates.append(p)\n",
    "\n",
    "print(\"[sweep] found loose files:\", [p.name for p in candidates])\n",
    "files = []\n",
    "for p in candidates:\n",
    "    dest = CORPUS_DIR / p.name\n",
    "    if dest.exists() and p.resolve() != dest.resolve():\n",
    "        dest = CORPUS_DIR / f\"{p.stem}_copy{p.suffix}\"\n",
    "    # Use Path.rename() to move the file\n",
    "    p.rename(dest)\n",
    "    print(f\"[sweep] moved {p.name} -> {dest.relative_to(CWD)}\")\n",
    "    files.append(dest)\n",
    "\n",
    "print(\"CORPUS contains:\", sorted([x.name for x in CORPUS_DIR.iterdir() if x.is_file()]))"
   ]
  },
  {
   "cell_type": "code",
   "execution_count": null,
   "metadata": {},
   "outputs": [
    {
     "name": "stdout",
     "output_type": "stream",
     "text": [
      "Found corpus files: ['NeurIPS-2024-richelieu-self-evolving-llm-based-agents-for-ai-diplomacy-Paper-Conference.pdf', 'NeurIPS-2024-mdagents-an-adaptive-collaboration-of-llms-for-medical-decision-making-Paper-Conference.pdf', 'sample.txt', 'NeurIPS-2024-can-large-language-model-agents-simulate-human-trust-behavior-Paper-Conference.pdf']\n",
      "[load] PDF:  corpus/NeurIPS-2024-richelieu-self-evolving-llm-based-agents-for-ai-diplomacy-Paper-Conference.pdf\n",
      "[load] PDF:  corpus/NeurIPS-2024-mdagents-an-adaptive-collaboration-of-llms-for-medical-decision-making-Paper-Conference.pdf\n",
      "[load] TEXT: corpus/sample.txt\n",
      "[load] PDF:  corpus/NeurIPS-2024-can-large-language-model-agents-simulate-human-trust-behavior-Paper-Conference.pdf\n",
      "[load] total raw docs: 127\n",
      "[load] first doc preview: Richelieu: Self-Evolving LLM-Based Agents for AI Diplomacy Zhenyu Guan ♢, Xiangyu Kong♣†B, Fangwei Zhong♠†B, Yizhou Wang♡♢ ♢ Institute for Artificial Intelligen\n",
      "✅ Chunks: 1067\n",
      "Sample chunk: Richelieu: Self-Evolving LLM-Based Agents for AI Diplomacy Zhenyu Guan ♢, Xiangyu Kong♣†B, Fangwei Zhong♠†B, Yizhou Wang\n"
     ]
    }
   ],
   "source": [
    "from langchain_community.document_loaders import PyPDFLoader, TextLoader\n",
    "from langchain.text_splitter import RecursiveCharacterTextSplitter\n",
    "\n",
    "# Recursively collect supported files\n",
    "supported_exts = {\".pdf\", \".txt\", \".text\", \".md\"}\n",
    "files = [p for p in CORPUS_DIR.rglob(\"*\") if p.is_file() and p.suffix.lower() in supported_exts]\n",
    "\n",
    "# If nothing is present, create a tiny fallback so notebook runs\n",
    "if not files:\n",
    "    (CORPUS_DIR / \"sample.txt\").write_text(\n",
    "        \"Topic 1 basics are discussed here. Chart 2 shows trend 2 increasing over time.\\n\"\n",
    "        \"This small note is only for evaluation plumbing.\", encoding=\"utf-8\"\n",
    "    )\n",
    "    files = [CORPUS_DIR / \"sample.txt\"]\n",
    "\n",
    "print(\"Found corpus files:\", [str(p.relative_to(CORPUS_DIR)) for p in files])\n",
    "\n",
    "# ---- Load with detailed debug ----\n",
    "docs = []\n",
    "for p in files:\n",
    "    ext = p.suffix.lower()\n",
    "    try:\n",
    "        if ext == \".pdf\":\n",
    "            print(f\"[load] PDF:  {p}\")\n",
    "            docs.extend(PyPDFLoader(str(p)).load())\n",
    "        elif ext in {\".txt\", \".text\", \".md\"}:\n",
    "            print(f\"[load] TEXT: {p}\")\n",
    "            docs.extend(TextLoader(str(p), encoding=\"utf-8\").load())\n",
    "        else:\n",
    "            print(f\"[SKIP] {p.name}\")\n",
    "    except Exception as e:\n",
    "        print(f\"[WARN] Could not read {p.name}: {e}\")\n",
    "\n",
    "print(f\"[load] total raw docs: {len(docs)}\")\n",
    "if docs:\n",
    "    print(\"[load] first doc preview:\", (docs[0].page_content or \"\").replace(\"\\n\",\" \")[:160])\n",
    "\n",
    "# ---- Chunking ----\n",
    "splitter = RecursiveCharacterTextSplitter(chunk_size=500, chunk_overlap=100)\n",
    "chunks = splitter.split_documents(docs)\n",
    "\n",
    "print(\"✅ Chunks:\", len(chunks))\n",
    "if chunks:\n",
    "    print(\"Sample chunk:\", chunks[0].page_content[:120].replace(\"\\n\",\" \"))\n"
   ]
  },
  {
   "cell_type": "code",
   "execution_count": null,
   "metadata": {},
   "outputs": [
    {
     "name": "stdout",
     "output_type": "stream",
     "text": [
      "✅ Chroma ready (./chroma_minilm)\n"
     ]
    }
   ],
   "source": [
    "from langchain_community.vectorstores import Chroma\n",
    "from langchain_community.embeddings import SentenceTransformerEmbeddings\n",
    "\n",
    "emb = SentenceTransformerEmbeddings(model_name=\"sentence-transformers/all-MiniLM-L6-v2\")\n",
    "vectordb = Chroma.from_documents(chunks, emb, persist_directory=\"chroma_minilm\")\n",
    "retriever = vectordb.as_retriever(search_kwargs={\"k\": 4})\n",
    "print(\"✅ Chroma ready (./chroma_minilm)\")\n"
   ]
  },
  {
   "cell_type": "code",
   "execution_count": null,
   "metadata": {},
   "outputs": [
    {
     "name": "stdout",
     "output_type": "stream",
     "text": [
      "✅ Eval rows: 6 | using: Week5_EvalSet_Template.jsonl\n",
      "[{'question': 'Define Valid Response Rate (VRR) in the Trust Game in one line.', 'gold_sources': ['NeurIPS-2024-can-large-language-model-agents-simulate-human-trust-behavior-Paper-Conference.pdf'], 'expected_answer': 'VRR = % personas whose sent amount is within the initial $10 limit.'}, {'question': 'How does trust rate change with probability p in the MAP Trust Game?', 'gold_sources': ['NeurIPS-2024-can-large-language-model-agents-simulate-human-trust-behavior-Paper-Conference.pdf'], 'expected_answer': 'Trust rate increases as risk decreases (higher p).'}]\n"
     ]
    }
   ],
   "source": [
    "import os, json\n",
    "\n",
    "EVAL_JSONL_CANDIDATES = [\n",
    "    \"Week5_EvalSet_Template.jsonl\",\n",
    "    \"/mnt/data/Week5_EvalSet_Template.jsonl\"\n",
    "]\n",
    "\n",
    "def ensure_eval_file(path):\n",
    "    with open(path, \"w\", encoding=\"utf-8\") as f:\n",
    "        f.write(json.dumps({\n",
    "            \"qid\":\"q1\",\n",
    "            \"query\":\"What is topic 1?\",\n",
    "            \"gold_answer\":\"topic 1 basics\",\n",
    "            \"gold_source_ids\":[\"doc1\",\"sample\",\"topic\",\"q1\"]\n",
    "        })+\"\\n\")\n",
    "        f.write(json.dumps({\n",
    "            \"qid\":\"q2\",\n",
    "            \"query\":\"Explain Chart 2\",\n",
    "            \"gold_answer\":\"trend 2 increasing\",\n",
    "            \"gold_source_ids\":[\"img2\",\"chart\",\"sample\",\"q2\"]\n",
    "        })+\"\\n\")\n",
    "\n",
    "for c in EVAL_JSONL_CANDIDATES:\n",
    "    if os.path.exists(c):\n",
    "        EVAL_JSONL = c\n",
    "        break\n",
    "else:\n",
    "    EVAL_JSONL = \"Week5_EvalSet_Template.jsonl\"\n",
    "    ensure_eval_file(EVAL_JSONL)\n",
    "\n",
    "def load_jsonl(p):\n",
    "    out=[]\n",
    "    with open(p,\"r\",encoding=\"utf-8\") as f:\n",
    "        for line in f:\n",
    "            if line.strip(): out.append(json.loads(line))\n",
    "    return out\n",
    "\n",
    "rows = load_jsonl(EVAL_JSONL)\n",
    "print(f\"✅ Eval rows: {len(rows)} | using: {EVAL_JSONL}\")\n",
    "print(rows[:2])\n"
   ]
  },
  {
   "cell_type": "code",
   "execution_count": null,
   "metadata": {},
   "outputs": [
    {
     "name": "stdout",
     "output_type": "stream",
     "text": [
      "Contact me at [REDACTED] or [REDACTED] or [REDACTED].\n",
      "{'answer': 'Sorry, I can’t help with that; it appears unsafe or out of scope.', 'sources': [], 'latency_s': 0.0, 'tokens_in': 4, 'tokens_out': 13}\n"
     ]
    }
   ],
   "source": [
    "import time, re, os\n",
    "from langchain.schema import Document\n",
    "\n",
    "# Extract a compact source id from metadata\n",
    "CAND_SRC_KEYS = (\"source\",\"file_path\",\"path\",\"pdf_path\",\"doc_id\",\"id\",\"document_id\",\"filename\")\n",
    "def extract_source_id(meta: dict) -> str:\n",
    "    for k in CAND_SRC_KEYS:\n",
    "        v = meta.get(k)\n",
    "        if v:\n",
    "            base = os.path.basename(str(v))\n",
    "            stem = os.path.splitext(base)[0]\n",
    "            return stem or base\n",
    "    return meta.get(\"doc_id\") or \"source\"\n",
    "\n",
    "def approx_tokens(s: str) -> int:\n",
    "    return max(1, len((s or \"\").split()))\n",
    "\n",
    "def summarize_chunks_simple(docs, max_words=40):\n",
    "    text = \" \".join([(d.page_content or \"\") for d in docs])[:2000]\n",
    "    words = re.findall(r\"\\S+\", text)\n",
    "    return \" \".join(words[:max_words])\n",
    "\n",
    "def run_pipeline(query: str, citations_required: bool = False, k: int = 4):\n",
    "    t0 = time.perf_counter()\n",
    "    docs = retriever.get_relevant_documents(query)[:k]\n",
    "    sources = list(dict.fromkeys([extract_source_id(getattr(d,\"metadata\",{})) for d in docs if d]))\n",
    "\n",
    "    # Build a short, deterministic answer from evidence\n",
    "    evidence_summary = summarize_chunks_simple(docs, max_words=50)\n",
    "    if not evidence_summary:\n",
    "        answer = \"I cannot find evidence in the corpus.\"\n",
    "        sources = []\n",
    "    else:\n",
    "        answer = f\"From the corpus: {evidence_summary}\"\n",
    "\n",
    "    # Citations required policy\n",
    "    if citations_required:\n",
    "        if not sources:\n",
    "            answer = \"I cannot answer with sufficient evidence.\"\n",
    "        else:\n",
    "            # Fix: Use single quotes for the outer f-string\n",
    "            answer = (answer + \" \" + \" \".join(f'[{s}]' for s in sources)).strip()\n",
    "\n",
    "    return {\n",
    "        \"answer\": answer,\n",
    "        \"sources\": sources,\n",
    "        \"latency_s\": round(time.perf_counter() - t0, 4),\n",
    "        \"tokens_in\": approx_tokens(query),\n",
    "        \"tokens_out\": approx_tokens(answer)\n",
    "    }\n",
    "\n",
    "# Basic guardrails\n",
    "PII_PATTERNS = [\n",
    "    r'\\b\\d{3}-\\d{2}-\\d{4}\\b',                          # SSN-like\n",
    "    r'\\b\\d{3}-\\d{3}-\\d{4}\\b',                          # US phone\n",
    "    r'[A-Za-z0-9._%+-]+@[A-Za-z0-9.-]+\\.[A-Za-z]{2,}'  # email\n",
    "]\n",
    "UNSAFE_HINTS = [\"private patient data\", \"password\", \"api key\", \"credit card\"]\n",
    "\n",
    "def redact_pii(text: str) -> str:\n",
    "    out = str(text)\n",
    "    for p in PII_PATTERNS:\n",
    "        out = re.sub(p, \"[REDACTED]\", out)\n",
    "    return out\n",
    "\n",
    "def needs_refusal(q: str) -> bool:\n",
    "    z = (q or \"\").lower()\n",
    "    return any(h in z for h in UNSAFE_HINTS)\n",
    "\n",
    "def safe_refusal(_: str) -> str:\n",
    "    return \"Sorry, I can’t help with that; it appears unsafe or out of scope.\"\n",
    "\n",
    "# Wrap pipeline with guardrails\n",
    "def guarded_pipeline(query: str, citations_required: bool = False):\n",
    "    if needs_refusal(query):\n",
    "        msg = safe_refusal(query)\n",
    "        return {\n",
    "            \"answer\": msg,\n",
    "            \"sources\": [],\n",
    "            \"latency_s\": 0.0,\n",
    "            \"tokens_in\": approx_tokens(query),\n",
    "            \"tokens_out\": approx_tokens(msg)\n",
    "        }\n",
    "    y = run_pipeline(query, citations_required=citations_required)\n",
    "    y[\"answer\"] = redact_pii(y[\"answer\"])\n",
    "    return y\n",
    "\n",
    "# Quick demo\n",
    "print(redact_pii(\"Contact me at a@b.com or 123-456-7890 or 111-22-3333.\"))\n",
    "print(guarded_pipeline(\"Share private patient data\", citations_required=True))"
   ]
  },
  {
   "cell_type": "code",
   "execution_count": null,
   "metadata": {},
   "outputs": [],
   "source": [
    "import pandas as pd\n",
    "\n",
    "def _tok(s: str):\n",
    "    return re.findall(r\"[A-Za-z0-9_]+\", (s or \"\").lower())\n",
    "\n",
    "def metric_correctness(answer: str, gold: str) -> float:\n",
    "    if not gold:\n",
    "        return 0.0\n",
    "    A, G = set(_tok(answer)), set(_tok(gold))\n",
    "    return 0.0 if not G else len(A & G) / len(G)\n",
    "\n",
    "def _norm_ids(ids):\n",
    "    out = set()\n",
    "    if not ids:\n",
    "        return out\n",
    "    if isinstance(ids, str):\n",
    "        ids = [ids]\n",
    "    for g in ids:\n",
    "        g = (g or \"\").strip().lower()\n",
    "        if not g:\n",
    "            continue\n",
    "        base = os.path.basename(g)\n",
    "        stem = os.path.splitext(base)[0]\n",
    "        out.update([g, base, stem])\n",
    "    return out\n",
    "\n",
    "def metric_faithfulness(cited_ids, gold_ids) -> float:\n",
    "    cited = _norm_ids(cited_ids)\n",
    "    gold  = _norm_ids(gold_ids)\n",
    "    return 1.0 if (cited & gold) else 0.0\n",
    "\n",
    "def eval_system(eval_rows, citations_required=False):\n",
    "    per=[]\n",
    "    for r in eval_rows:\n",
    "        qid  = r.get(\"qid\") or r.get(\"id\") or \"\"\n",
    "        q    = r.get(\"query\") or r.get(\"question\") or \"\"\n",
    "        gold_ans = r.get(\"gold_answer\") or r.get(\"expected_answer\") or \"\"\n",
    "        gold_src = r.get(\"gold_source_ids\") or r.get(\"gold_sources\") or []\n",
    "        y = guarded_pipeline(q, citations_required=citations_required)\n",
    "        per.append({\n",
    "            \"qid\": qid,\n",
    "            \"query\": q,\n",
    "            \"answer\": y[\"answer\"],\n",
    "            \"sources\": \";\".join(y[\"sources\"]),\n",
    "            \"correctness\": metric_correctness(y[\"answer\"], gold_ans),\n",
    "            \"faithfulness\": metric_faithfulness(y[\"sources\"], gold_src),\n",
    "            \"latency_s\": y[\"latency_s\"],\n",
    "            \"tokens_in\": y[\"tokens_in\"],\n",
    "            \"tokens_out\": y[\"tokens_out\"]\n",
    "        })\n",
    "    df = pd.DataFrame(per)\n",
    "    agg = df.mean(numeric_only=True)\n",
    "    return df, agg\n"
   ]
  },
  {
   "cell_type": "code",
   "execution_count": null,
   "metadata": {},
   "outputs": [
    {
     "name": "stdout",
     "output_type": "stream",
     "text": [
      "Before: {'correctness': 0.2094155844155844, 'faithfulness': 1.0, 'latency_s': 0.008733333333333334, 'tokens_in': 10.0, 'tokens_out': 53.0}\n",
      "After : {'correctness': 0.25405844155844154, 'faithfulness': 1.0, 'latency_s': 0.008983333333333334, 'tokens_in': 10.0, 'tokens_out': 54.0}\n",
      "Saved: trackC_eval_before.csv, trackC_eval_after.csv\n"
     ]
    }
   ],
   "source": [
    "before_df, before_s = eval_system(rows, citations_required=False)\n",
    "after_df,  after_s  = eval_system(rows, citations_required=True)\n",
    "\n",
    "print(\"Before:\", before_s.to_dict())\n",
    "print(\"After :\", after_s.to_dict())\n",
    "\n",
    "before_df.to_csv(\"trackC_eval_before.csv\", index=False)\n",
    "after_df.to_csv(\"trackC_eval_after.csv\", index=False)\n",
    "print(\"Saved: trackC_eval_before.csv, trackC_eval_after.csv\")\n"
   ]
  },
  {
   "cell_type": "code",
   "execution_count": null,
   "metadata": {},
   "outputs": [
    {
     "name": "stdout",
     "output_type": "stream",
     "text": [
      "  setting  correctness  faithfulness  latency_s  tokens_in  tokens_out\n",
      "0  before     0.209416           1.0   0.008733       10.0        53.0\n",
      "1   after     0.254058           1.0   0.008983       10.0        54.0\n"
     ]
    },
    {
     "data": {
      "image/png": "[encoded data removed]",
      "text/plain": [
       "<Figure size 640x480 with 1 Axes>"
      ]
     },
     "metadata": {},
     "output_type": "display_data"
    },
    {
     "data": {
      "image/png": "[encoded data removed]",
      "text/plain": [
       "<Figure size 640x480 with 1 Axes>"
      ]
     },
     "metadata": {},
     "output_type": "display_data"
    },
    {
     "name": "stdout",
     "output_type": "stream",
     "text": [
      "Saved: trackC_eval_summary.csv\n",
      "Saved: trackC_run_config.json\n"
     ]
    }
   ],
   "source": [
    "import matplotlib.pyplot as plt\n",
    "import pandas as pd, json, datetime\n",
    "\n",
    "summary = pd.DataFrame([before_s, after_s], index=[\"before\",\"after\"]).reset_index().rename(columns={\"index\":\"setting\"})\n",
    "print(summary)\n",
    "\n",
    "plt.figure()\n",
    "plt.bar(summary[\"setting\"], summary[\"faithfulness\"])\n",
    "plt.title(\"Faithfulness (proxy)\")\n",
    "plt.xlabel(\"Setting\"); plt.ylabel(\"Score\")\n",
    "plt.show()\n",
    "\n",
    "plt.figure()\n",
    "plt.bar(summary[\"setting\"], summary[\"latency_s\"])\n",
    "plt.title(\"Latency\")\n",
    "plt.xlabel(\"Setting\"); plt.ylabel(\"Seconds\")\n",
    "plt.show()\n",
    "\n",
    "summary.to_csv(\"trackC_eval_summary.csv\", index=False)\n",
    "print(\"Saved: trackC_eval_summary.csv\")\n",
    "\n",
    "def pv(modname):\n",
    "    try:\n",
    "        mod = __import__(modname)\n",
    "        return getattr(mod, \"__version__\", \"unknown\")\n",
    "    except Exception:\n",
    "        return \"not installed\"\n",
    "\n",
    "run_cfg = {\n",
    "    \"timestamp\": datetime.datetime.now().isoformat(timespec=\"seconds\"),\n",
    "    \"retriever\": {\n",
    "        \"embedding_model\": \"sentence-transformers/all-MiniLM-L6-v2\",\n",
    "        \"chroma_dir\": \"chroma_minilm\",\n",
    "        \"retriever_k\": 4,\n",
    "        \"chunking\": {\"size\": 500, \"overlap\": 100}\n",
    "    },\n",
    "    \"eval\": {\n",
    "        \"eval_jsonl\": EVAL_JSONL,\n",
    "        \"before_csv\": \"trackC_eval_before.csv\",\n",
    "        \"after_csv\": \"trackC_eval_after.csv\",\n",
    "        \"summary_csv\": \"trackC_eval_summary.csv\"\n",
    "    },\n",
    "    \"guardrails\": {\n",
    "        \"pii_patterns\": [\"SSN-like\",\"US phone\",\"email\"],\n",
    "        \"unsafe_hints\": [\"private patient data\",\"password\",\"api key\",\"credit card\"]\n",
    "    },\n",
    "    \"packages\": {\n",
    "        \"sentence_transformers\": pv(\"sentence_transformers\"),\n",
    "        \"chromadb\": pv(\"chromadb\"),\n",
    "        \"matplotlib\": pv(\"matplotlib\"),\n",
    "        \"langchain_community\": pv(\"langchain_community\")\n",
    "    }\n",
    "}\n",
    "with open(\"trackC_run_config.json\",\"w\") as f:\n",
    "    json.dump(run_cfg, f, indent=2)\n",
    "print(\"Saved: trackC_run_config.json\")\n"
   ]
  },
  {
   "cell_type": "code",
   "execution_count": null,
   "metadata": {},
   "outputs": [],
   "source": []
  }
 ],
 "metadata": {
  "language_info": {
   "name": "python"
  }
 },
 "nbformat": 4,
 "nbformat_minor": 0
}
